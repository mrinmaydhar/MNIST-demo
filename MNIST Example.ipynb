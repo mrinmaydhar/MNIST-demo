{
 "cells": [
  {
   "cell_type": "code",
   "execution_count": 1,
   "metadata": {},
   "outputs": [
    {
     "name": "stderr",
     "output_type": "stream",
     "text": [
      "Using TensorFlow backend.\n"
     ]
    },
    {
     "name": "stdout",
     "output_type": "stream",
     "text": [
      "_________________________________________________________________\n",
      "Layer (type)                 Output Shape              Param #   \n",
      "=================================================================\n",
      "conv2d_1 (Conv2D)            (None, 26, 26, 32)        320       \n",
      "_________________________________________________________________\n",
      "conv2d_2 (Conv2D)            (None, 24, 24, 64)        18496     \n",
      "_________________________________________________________________\n",
      "max_pooling2d_1 (MaxPooling2 (None, 12, 12, 64)        0         \n",
      "_________________________________________________________________\n",
      "dropout_1 (Dropout)          (None, 12, 12, 64)        0         \n",
      "_________________________________________________________________\n",
      "flatten_1 (Flatten)          (None, 9216)              0         \n",
      "_________________________________________________________________\n",
      "dense_1 (Dense)              (None, 128)               1179776   \n",
      "_________________________________________________________________\n",
      "dropout_2 (Dropout)          (None, 128)               0         \n",
      "_________________________________________________________________\n",
      "dense_2 (Dense)              (None, 10)                1290      \n",
      "=================================================================\n",
      "Total params: 1,199,882\n",
      "Trainable params: 1,199,882\n",
      "Non-trainable params: 0\n",
      "_________________________________________________________________\n",
      "Train on 60000 samples, validate on 10000 samples\n",
      "Epoch 1/15\n",
      "60000/60000 [==============================] - 7s 120us/step - loss: 0.2297 - acc: 0.9300 - val_loss: 0.0500 - val_acc: 0.9841\n",
      "Epoch 2/15\n",
      "60000/60000 [==============================] - 6s 103us/step - loss: 0.0819 - acc: 0.9754 - val_loss: 0.0384 - val_acc: 0.9881\n",
      "Epoch 3/15\n",
      "60000/60000 [==============================] - 6s 105us/step - loss: 0.0593 - acc: 0.9817 - val_loss: 0.0337 - val_acc: 0.9893\n",
      "Epoch 4/15\n",
      "60000/60000 [==============================] - 6s 104us/step - loss: 0.0488 - acc: 0.9851 - val_loss: 0.0317 - val_acc: 0.9895\n",
      "Epoch 5/15\n",
      "60000/60000 [==============================] - 6s 104us/step - loss: 0.0423 - acc: 0.9866 - val_loss: 0.0304 - val_acc: 0.9905\n",
      "Epoch 6/15\n",
      "60000/60000 [==============================] - 6s 102us/step - loss: 0.0350 - acc: 0.9890 - val_loss: 0.0282 - val_acc: 0.9914\n",
      "Epoch 7/15\n",
      "60000/60000 [==============================] - 6s 102us/step - loss: 0.0336 - acc: 0.9891 - val_loss: 0.0320 - val_acc: 0.9896\n",
      "Epoch 8/15\n",
      "60000/60000 [==============================] - 6s 100us/step - loss: 0.0290 - acc: 0.9902 - val_loss: 0.0332 - val_acc: 0.9908\n",
      "Epoch 9/15\n",
      "60000/60000 [==============================] - 6s 101us/step - loss: 0.0250 - acc: 0.9915 - val_loss: 0.0296 - val_acc: 0.9916\n",
      "Epoch 10/15\n",
      "60000/60000 [==============================] - 6s 101us/step - loss: 0.0230 - acc: 0.9924 - val_loss: 0.0297 - val_acc: 0.9920\n",
      "Epoch 11/15\n",
      "60000/60000 [==============================] - 6s 100us/step - loss: 0.0216 - acc: 0.9928 - val_loss: 0.0342 - val_acc: 0.9904\n",
      "Epoch 12/15\n",
      "60000/60000 [==============================] - 6s 102us/step - loss: 0.0213 - acc: 0.9928 - val_loss: 0.0275 - val_acc: 0.9927\n",
      "Epoch 13/15\n",
      "60000/60000 [==============================] - 6s 104us/step - loss: 0.0185 - acc: 0.9942 - val_loss: 0.0350 - val_acc: 0.9916\n",
      "Epoch 14/15\n",
      "60000/60000 [==============================] - 6s 107us/step - loss: 0.0174 - acc: 0.9939 - val_loss: 0.0311 - val_acc: 0.9926\n",
      "Epoch 15/15\n",
      "60000/60000 [==============================] - 6s 107us/step - loss: 0.0159 - acc: 0.9945 - val_loss: 0.0326 - val_acc: 0.9924\n"
     ]
    },
    {
     "data": {
      "text/plain": [
       "<keras.callbacks.History at 0x7f7387cf4780>"
      ]
     },
     "execution_count": 1,
     "metadata": {},
     "output_type": "execute_result"
    }
   ],
   "source": [
    "#Import dependencies\n",
    "import keras\n",
    "from keras.datasets import mnist\n",
    "from keras.models import Sequential\n",
    "from keras.layers import Dense, Dropout\n",
    "from keras.layers import Flatten,  MaxPooling2D, Conv2D\n",
    "from keras.callbacks import TensorBoard\n",
    "\n",
    "#Load and process the MNIST data\n",
    "(X_train,Y_train), (X_test, Y_test) = mnist.load_data()\n",
    "\n",
    "X_train = X_train.reshape(60000,28,28,1).astype('float32')\n",
    "X_test = X_test.reshape(10000,28,28,1).astype('float32')\n",
    "\n",
    "X_train /= 255\n",
    "X_test /= 255\n",
    "\n",
    "n_classes = 10\n",
    "Y_train = keras.utils.to_categorical(Y_train, n_classes)\n",
    "Y_test = keras.utils.to_categorical(Y_test, n_classes)\n",
    "\n",
    "#Create the LeNet-5 neural network architecture\n",
    "model = Sequential()\n",
    "model.add(Conv2D(32, kernel_size=(3,3), activation='relu', input_shape=(28,28,1)) )\n",
    "model.add(Conv2D(64, kernel_size=(3,3), activation='relu'))\n",
    "model.add(MaxPooling2D(pool_size=(2,2)))\n",
    "model.add(Dropout(0.25))\n",
    "model.add(Flatten())          \n",
    "model.add(Dense(128, activation='relu'))\n",
    "model.add(Dropout(0.5))\n",
    "model.add(Dense(n_classes, activation='softmax'))\n",
    "model.summary()\n",
    "\n",
    "#Compile the model\n",
    "model.compile(loss='categorical_crossentropy', optimizer='adam', metrics=['accuracy'])\n",
    "\n",
    "#Set log data to feed to TensorBoard for visual analysis\n",
    "tensor_board = TensorBoard('./logs/LeNet-MNIST-1')\n",
    "\n",
    "#Train the model\n",
    "model.fit(X_train, Y_train, batch_size=128, epochs=15, verbose=1,\n",
    "          validation_data=(X_test,Y_test), callbacks=[tensor_board])"
   ]
  }
 ],
 "metadata": {
  "kernelspec": {
   "display_name": "TensorFlow-GPU",
   "language": "python",
   "name": "tf-gpu"
  },
  "language_info": {
   "codemirror_mode": {
    "name": "ipython",
    "version": 3
   },
   "file_extension": ".py",
   "mimetype": "text/x-python",
   "name": "python",
   "nbconvert_exporter": "python",
   "pygments_lexer": "ipython3",
   "version": "3.6.6"
  }
 },
 "nbformat": 4,
 "nbformat_minor": 2
}
